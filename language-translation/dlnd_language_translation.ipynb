{
 "cells": [
  {
   "cell_type": "markdown",
   "metadata": {
    "collapsed": true
   },
   "source": [
    "# Language Translation\n",
    "In this project, you’re going to take a peek into the realm of neural network machine translation.  You’ll be training a sequence to sequence model on a dataset of English and French sentences that can translate new sentences from English to French.\n",
    "## Get the Data\n",
    "Since translating the whole language of English to French will take lots of time to train, we have provided you with a small portion of the English corpus."
   ]
  },
  {
   "cell_type": "code",
   "execution_count": 2,
   "metadata": {
    "collapsed": true
   },
   "outputs": [],
   "source": [
    "\"\"\"\n",
    "DON'T MODIFY ANYTHING IN THIS CELL\n",
    "\"\"\"\n",
    "import helper\n",
    "import problem_unittests as tests\n",
    "\n",
    "source_path = 'data/small_vocab_en'\n",
    "target_path = 'data/small_vocab_fr'\n",
    "source_text = helper.load_data(source_path)\n",
    "target_text = helper.load_data(target_path)"
   ]
  },
  {
   "cell_type": "markdown",
   "metadata": {},
   "source": [
    "## Explore the Data\n",
    "Play around with view_sentence_range to view different parts of the data."
   ]
  },
  {
   "cell_type": "code",
   "execution_count": 3,
   "metadata": {},
   "outputs": [
    {
     "name": "stdout",
     "output_type": "stream",
     "text": [
      "0 10\n",
      "(0, 10)\n",
      "Dataset Stats\n",
      "Roughly the number of unique words: 227\n",
      "Number of sentences: 137861\n",
      "Average number of words in a sentence: 13.225277634719028\n",
      "\n",
      "English sentences 0 to 10:\n",
      "new jersey is sometimes quiet during autumn , and it is snowy in april .\n",
      "the united states is usually chilly during july , and it is usually freezing in november .\n",
      "california is usually quiet during march , and it is usually hot in june .\n",
      "the united states is sometimes mild during june , and it is cold in september .\n",
      "your least liked fruit is the grape , but my least liked is the apple .\n",
      "his favorite fruit is the orange , but my favorite is the grape .\n",
      "paris is relaxing during december , but it is usually chilly in july .\n",
      "new jersey is busy during spring , and it is never hot in march .\n",
      "our least liked fruit is the lemon , but my least liked is the grape .\n",
      "the united states is sometimes busy during january , and it is sometimes warm in november .\n",
      "\n",
      "French sentences 0 to 10:\n",
      "new jersey est parfois calme pendant l' automne , et il est neigeux en avril .\n",
      "les états-unis est généralement froid en juillet , et il gèle habituellement en novembre .\n",
      "california est généralement calme en mars , et il est généralement chaud en juin .\n",
      "les états-unis est parfois légère en juin , et il fait froid en septembre .\n",
      "votre moins aimé fruit est le raisin , mais mon moins aimé est la pomme .\n",
      "son fruit préféré est l'orange , mais mon préféré est le raisin .\n",
      "paris est relaxant en décembre , mais il est généralement froid en juillet .\n",
      "new jersey est occupé au printemps , et il est jamais chaude en mars .\n",
      "notre fruit est moins aimé le citron , mais mon moins aimé est le raisin .\n",
      "les états-unis est parfois occupé en janvier , et il est parfois chaud en novembre .\n"
     ]
    }
   ],
   "source": [
    "view_sentence_range = (0, 10)\n",
    "print (*view_sentence_range)\n",
    "print (view_sentence_range)\n",
    "\n",
    "\n",
    "\"\"\"\n",
    "DON'T MODIFY ANYTHING IN THIS CELL\n",
    "\"\"\"\n",
    "import numpy as np\n",
    "\n",
    "print('Dataset Stats')\n",
    "print('Roughly the number of unique words: {}'.format(len({word: None for word in source_text.split()})))\n",
    "\n",
    "sentences = source_text.split('\\n')\n",
    "word_counts = [len(sentence.split()) for sentence in sentences]\n",
    "print('Number of sentences: {}'.format(len(sentences)))\n",
    "print('Average number of words in a sentence: {}'.format(np.average(word_counts)))\n",
    "\n",
    "print()\n",
    "print('English sentences {} to {}:'.format(*view_sentence_range))\n",
    "print('\\n'.join(source_text.split('\\n')[view_sentence_range[0]:view_sentence_range[1]]))\n",
    "print()\n",
    "print('French sentences {} to {}:'.format(*view_sentence_range))\n",
    "print('\\n'.join(target_text.split('\\n')[view_sentence_range[0]:view_sentence_range[1]]))"
   ]
  },
  {
   "cell_type": "markdown",
   "metadata": {},
   "source": [
    "## Implement Preprocessing Function\n",
    "### Text to Word Ids\n",
    "As you did with other RNNs, you must turn the text into a number so the computer can understand it. In the function `text_to_ids()`, you'll turn `source_text` and `target_text` from words to ids.  However, you need to add the `<EOS>` word id at the end of `target_text`.  This will help the neural network predict when the sentence should end.\n",
    "\n",
    "You can get the `<EOS>` word id by doing:\n",
    "```python\n",
    "target_vocab_to_int['<EOS>']\n",
    "```\n",
    "You can get other word ids using `source_vocab_to_int` and `target_vocab_to_int`."
   ]
  },
  {
   "cell_type": "code",
   "execution_count": 4,
   "metadata": {},
   "outputs": [
    {
     "name": "stdout",
     "output_type": "stream",
     "text": [
      "Tests Passed\n"
     ]
    }
   ],
   "source": [
    "def text_to_ids(source_text, target_text, source_vocab_to_int, target_vocab_to_int):\n",
    "    \"\"\"\n",
    "    Convert source and target text to proper word ids\n",
    "    :param source_text: String that contains all the source text.\n",
    "    :param target_text: String that contains all the target text.\n",
    "    :param source_vocab_to_int: Dictionary to go from the source words to an id\n",
    "    :param target_vocab_to_int: Dictionary to go from the target words to an id\n",
    "    :return: A tuple of lists (source_id_text, target_id_text)\n",
    "    \"\"\"\n",
    "    # TODO: Implement Function\n",
    "    source_id_text = []\n",
    "    target_id_text = []\n",
    "    \n",
    "    for sentence in source_text.split('\\n'):\n",
    "        tmp_int_sentence = []\n",
    "        for word in sentence.split():\n",
    "            #print (word)\n",
    "            if(word == '.'):\n",
    "                tmp_int_sentence.append(source_vocab_to_int['.'])\n",
    "                #tmp_int_sentence.append(source_vocab_to_int['<EOS>'])\n",
    "                source_id_text.append(tmp_int_sentence)\n",
    "            else:\n",
    "                tmp_int_sentence.append(source_vocab_to_int[word])\n",
    "    #print (source_id_text)\n",
    "\n",
    "    for sentence in target_text.split('\\n'):\n",
    "        tmp_int_sentence = []\n",
    "        #print (sentence)\n",
    "        for word in sentence.split():\n",
    "            if(word == '.'):\n",
    "                tmp_int_sentence.append(target_vocab_to_int['.'])\n",
    "                tmp_int_sentence.append(target_vocab_to_int['<EOS>'])\n",
    "                target_id_text.append(tmp_int_sentence)\n",
    "            else:\n",
    "                tmp_int_sentence.append(target_vocab_to_int[word])\n",
    "    \n",
    "    return source_id_text, target_id_text\n",
    "\n",
    "\"\"\"\n",
    "DON'T MODIFY ANYTHING IN THIS CELL THAT IS BELOW THIS LINE\n",
    "\"\"\"\n",
    "tests.test_text_to_ids(text_to_ids)"
   ]
  },
  {
   "cell_type": "code",
   "execution_count": 5,
   "metadata": {
    "collapsed": true
   },
   "outputs": [],
   "source": [
    "# Why do we only need to add <EOS> in target and don't care about source"
   ]
  },
  {
   "cell_type": "markdown",
   "metadata": {},
   "source": [
    "### Preprocess all the data and save it\n",
    "Running the code cell below will preprocess all the data and save it to file."
   ]
  },
  {
   "cell_type": "code",
   "execution_count": 6,
   "metadata": {
    "collapsed": true
   },
   "outputs": [],
   "source": [
    "\"\"\"\n",
    "DON'T MODIFY ANYTHING IN THIS CELL\n",
    "\"\"\"\n",
    "helper.preprocess_and_save_data(source_path, target_path, text_to_ids)"
   ]
  },
  {
   "cell_type": "markdown",
   "metadata": {},
   "source": [
    "# Check Point\n",
    "This is your first checkpoint. If you ever decide to come back to this notebook or have to restart the notebook, you can start from here. The preprocessed data has been saved to disk."
   ]
  },
  {
   "cell_type": "code",
   "execution_count": 7,
   "metadata": {
    "collapsed": true
   },
   "outputs": [],
   "source": [
    "\"\"\"\n",
    "DON'T MODIFY ANYTHING IN THIS CELL\n",
    "\"\"\"\n",
    "import numpy as np\n",
    "import helper\n",
    "import problem_unittests as tests\n",
    "\n",
    "(source_int_text, target_int_text), (source_vocab_to_int, target_vocab_to_int), _ = helper.load_preprocess()"
   ]
  },
  {
   "cell_type": "markdown",
   "metadata": {},
   "source": [
    "### Check the Version of TensorFlow and Access to GPU\n",
    "This will check to make sure you have the correct version of TensorFlow and access to a GPU"
   ]
  },
  {
   "cell_type": "code",
   "execution_count": 8,
   "metadata": {},
   "outputs": [
    {
     "name": "stdout",
     "output_type": "stream",
     "text": [
      "TensorFlow Version: 1.1.0\n",
      "TensorFlow Version: 1.1.0\n"
     ]
    },
    {
     "name": "stderr",
     "output_type": "stream",
     "text": [
      "/Users/kslin/anaconda/envs/ana41py35/lib/python3.6/site-packages/ipykernel/__main__.py:16: UserWarning: No GPU found. Please use a GPU to train your neural network.\n"
     ]
    }
   ],
   "source": [
    "\"\"\"\n",
    "DON'T MODIFY ANYTHING IN THIS CELL\n",
    "\"\"\"\n",
    "from distutils.version import LooseVersion\n",
    "import warnings\n",
    "import tensorflow as tf\n",
    "from tensorflow.python.layers.core import Dense\n",
    "\n",
    "# Check TensorFlow Version\n",
    "print('TensorFlow Version: {}'.format(tf.__version__))\n",
    "assert LooseVersion(tf.__version__) >= LooseVersion('1.1'), 'Please use TensorFlow version 1.1 or newer'\n",
    "print('TensorFlow Version: {}'.format(tf.__version__))\n",
    "\n",
    "# Check for a GPU\n",
    "if not tf.test.gpu_device_name():\n",
    "    warnings.warn('No GPU found. Please use a GPU to train your neural network.')\n",
    "else:\n",
    "    print('Default GPU Device: {}'.format(tf.test.gpu_device_name()))"
   ]
  },
  {
   "cell_type": "markdown",
   "metadata": {},
   "source": [
    "## Build the Neural Network\n",
    "You'll build the components necessary to build a Sequence-to-Sequence model by implementing the following functions below:\n",
    "- `model_inputs`\n",
    "- `process_decoder_input`\n",
    "- `encoding_layer`\n",
    "- `decoding_layer_train`\n",
    "- `decoding_layer_infer`\n",
    "- `decoding_layer`\n",
    "- `seq2seq_model`\n",
    "\n",
    "### Input\n",
    "Implement the `model_inputs()` function to create TF Placeholders for the Neural Network. It should create the following placeholders:\n",
    "\n",
    "- Input text placeholder named \"input\" using the TF Placeholder name parameter with rank 2.\n",
    "- Targets placeholder with rank 2.\n",
    "- Learning rate placeholder with rank 0.\n",
    "- Keep probability placeholder named \"keep_prob\" using the TF Placeholder name parameter with rank 0.\n",
    "- Target sequence length placeholder named \"target_sequence_length\" with rank 1\n",
    "- Max target sequence length tensor named \"max_target_len\" getting its value from applying tf.reduce_max on the target_sequence_length placeholder. Rank 0.\n",
    "- Source sequence length placeholder named \"source_sequence_length\" with rank 1\n",
    "\n",
    "Return the placeholders in the following the tuple (input, targets, learning rate, keep probability, target sequence length, max target sequence length, source sequence length)"
   ]
  },
  {
   "cell_type": "code",
   "execution_count": 9,
   "metadata": {},
   "outputs": [
    {
     "name": "stdout",
     "output_type": "stream",
     "text": [
      "Tests Passed\n"
     ]
    }
   ],
   "source": [
    "def model_inputs():\n",
    "    \"\"\"\n",
    "    Create TF Placeholders for input, targets, learning rate, and lengths of source and target sequences.\n",
    "    :return: Tuple (input, targets, learning rate, keep probability, target sequence length,\n",
    "    max target sequence length, source sequence length)\n",
    "    \"\"\"\n",
    "    # TODO: Implement Function\n",
    "    \n",
    "    input_text = tf.placeholder(tf.int32, [None, None], name='input')\n",
    "    targets = tf.placeholder(tf.int32, [None, None], name='targets')\n",
    "    lr = tf.placeholder(tf.float32, name='learning_rate')\n",
    "    kp = tf.placeholder(tf.float32, name='keep_prob')\n",
    "    target_sl = tf.placeholder(tf.int32, (None,), name='target_sequence_length')\n",
    "    max_target_sl = tf.reduce_max(target_sl, name='max_target_len')\n",
    "    source_sl = tf.placeholder(tf.int32, (None,), name='source_sequence_length')\n",
    "    \n",
    "    return input_text, targets, lr, kp, target_sl, max_target_sl, source_sl\n",
    "    \n",
    "    \"\"\" What I google and worth to record\n",
    "    1. Tensor rank is not the same as matrix rank.\n",
    "    \n",
    "    reference:\n",
    "    [1]https://www.tensorflow.org/programmers_guide/dims_types\n",
    "    \"\"\"\n",
    "\n",
    "\n",
    "\n",
    "\"\"\"\n",
    "DON'T MODIFY ANYTHING IN THIS CELL THAT IS BELOW THIS LINE\n",
    "\"\"\"\n",
    "tests.test_model_inputs(model_inputs)"
   ]
  },
  {
   "cell_type": "markdown",
   "metadata": {},
   "source": [
    "### Process Decoder Input\n",
    "Implement `process_decoder_input` by removing the last word id from each batch in `target_data` and concat the GO ID to the begining of each batch."
   ]
  },
  {
   "cell_type": "code",
   "execution_count": 10,
   "metadata": {},
   "outputs": [
    {
     "name": "stdout",
     "output_type": "stream",
     "text": [
      "Tests Passed\n"
     ]
    }
   ],
   "source": [
    "def process_decoder_input(target_data, target_vocab_to_int, batch_size):\n",
    "    \"\"\"\n",
    "    Preprocess target data for encoding\n",
    "    :param target_data: Target Placehoder\n",
    "    :param target_vocab_to_int: Dictionary to go from the target words to an id\n",
    "    :param batch_size: Batch Size\n",
    "    :return: Preprocessed target data\n",
    "    \"\"\"\n",
    "    # TODO: Implement Function\n",
    "    \n",
    "    ending = tf.strided_slice(target_data, [0, 0], [batch_size, -1], [1, 1])\n",
    "    dec_input = tf.concat([tf.fill([batch_size, 1], target_vocab_to_int['<GO>']), ending], 1)\n",
    "    \n",
    "    '''\n",
    "    it's modified from seq2seq \n",
    "    '''\n",
    "    return dec_input\n",
    "\n",
    "\"\"\"\n",
    "DON'T MODIFY ANYTHING IN THIS CELL THAT IS BELOW THIS LINE\n",
    "\"\"\"\n",
    "tests.test_process_encoding_input(process_decoder_input)"
   ]
  },
  {
   "cell_type": "markdown",
   "metadata": {},
   "source": [
    "### Encoding\n",
    "Implement `encoding_layer()` to create a Encoder RNN layer:\n",
    " * Embed the encoder input using [`tf.contrib.layers.embed_sequence`](https://www.tensorflow.org/api_docs/python/tf/contrib/layers/embed_sequence)\n",
    " * Construct a [stacked](https://github.com/tensorflow/tensorflow/blob/6947f65a374ebf29e74bb71e36fd82760056d82c/tensorflow/docs_src/tutorials/recurrent.md#stacking-multiple-lstms) [`tf.contrib.rnn.LSTMCell`](https://www.tensorflow.org/api_docs/python/tf/contrib/rnn/LSTMCell) wrapped in a [`tf.contrib.rnn.DropoutWrapper`](https://www.tensorflow.org/api_docs/python/tf/contrib/rnn/DropoutWrapper)\n",
    " * Pass cell and embedded input to [`tf.nn.dynamic_rnn()`](https://www.tensorflow.org/api_docs/python/tf/nn/dynamic_rnn)"
   ]
  },
  {
   "cell_type": "code",
   "execution_count": 11,
   "metadata": {
    "scrolled": false
   },
   "outputs": [
    {
     "name": "stdout",
     "output_type": "stream",
     "text": [
      "Tests Passed\n"
     ]
    }
   ],
   "source": [
    "from imp import reload\n",
    "reload(tests)\n",
    "\n",
    "def encoding_layer(rnn_inputs, rnn_size, num_layers, keep_prob, \n",
    "                   source_sequence_length, source_vocab_size, \n",
    "                   encoding_embedding_size):\n",
    "    \"\"\"\n",
    "    Create encoding layer\n",
    "    :param rnn_inputs: Inputs for the RNN\n",
    "    :param rnn_size: RNN Size\n",
    "    :param num_layers: Number of layers\n",
    "    :param keep_prob: Dropout keep probability\n",
    "    :param source_sequence_length: a list of the lengths of each sequence in the batch\n",
    "    :param source_vocab_size: vocabulary size of source data\n",
    "    :param encoding_embedding_size: embedding size of source data\n",
    "    :return: tuple (RNN output, RNN state)\n",
    "    \"\"\"\n",
    "    \n",
    "\n",
    "    # Encoder embedding\n",
    "    enc_embed_input = tf.contrib.layers.embed_sequence(rnn_inputs, source_vocab_size, encoding_embedding_size)\n",
    "\n",
    "    # RNN cell\n",
    "    def make_cell(rnn_size):\n",
    "        enc_cell = tf.contrib.rnn.LSTMCell(rnn_size,\n",
    "                                           initializer=tf.random_uniform_initializer(-0.1, 0.1, seed=2))\n",
    "        drop_cell = tf.contrib.rnn.DropoutWrapper(enc_cell, input_keep_prob=keep_prob)\n",
    "\n",
    "        return drop_cell\n",
    "\n",
    "    enc_cell = tf.contrib.rnn.MultiRNNCell([make_cell(rnn_size) for _ in range(num_layers)])\n",
    "    \n",
    "    enc_output, enc_state = tf.nn.dynamic_rnn(enc_cell, enc_embed_input, sequence_length=source_sequence_length, dtype=tf.float32)\n",
    "    \n",
    "    return enc_output, enc_state\n",
    "\n",
    "    '''\n",
    "    it's modified from seq2seq\n",
    "    '''\n",
    "    \n",
    "\"\"\"\n",
    "DON'T MODIFY ANYTHING IN THIS CELL THAT IS BELOW THIS LINE\n",
    "\"\"\"\n",
    "tests.test_encoding_layer(encoding_layer)"
   ]
  },
  {
   "cell_type": "markdown",
   "metadata": {},
   "source": [
    "### Decoding - Training\n",
    "Create a training decoding layer:\n",
    "* Create a [`tf.contrib.seq2seq.TrainingHelper`](https://www.tensorflow.org/api_docs/python/tf/contrib/seq2seq/TrainingHelper) \n",
    "* Create a [`tf.contrib.seq2seq.BasicDecoder`](https://www.tensorflow.org/api_docs/python/tf/contrib/seq2seq/BasicDecoder)\n",
    "* Obtain the decoder outputs from [`tf.contrib.seq2seq.dynamic_decode`](https://www.tensorflow.org/api_docs/python/tf/contrib/seq2seq/dynamic_decode)"
   ]
  },
  {
   "cell_type": "code",
   "execution_count": 12,
   "metadata": {},
   "outputs": [
    {
     "name": "stdout",
     "output_type": "stream",
     "text": [
      "Tests Passed\n"
     ]
    }
   ],
   "source": [
    "\n",
    "def decoding_layer_train(encoder_state, dec_cell, dec_embed_input, \n",
    "                         target_sequence_length, max_summary_length, \n",
    "                         output_layer, keep_prob):\n",
    "    \"\"\"\n",
    "    Create a decoding layer for training\n",
    "    :param encoder_state: Encoder State\n",
    "    :param dec_cell: Decoder RNN Cell\n",
    "    :param dec_embed_input: Decoder embedded input\n",
    "    :param target_sequence_length: The lengths of each sequence in the target batch\n",
    "    :param max_summary_length: The length of the longest sequence in the batch\n",
    "    :param output_layer: Function to apply the output layer\n",
    "    :param keep_prob: Dropout keep probability\n",
    "    :return: BasicDecoderOutput containing training logits and sample_id\n",
    "    \"\"\"\n",
    "\n",
    "\n",
    "    # Helper for the training process. Used by BasicDecoder to read inputs.\n",
    "    training_helper = tf.contrib.seq2seq.TrainingHelper(inputs=dec_embed_input,\n",
    "                                                            sequence_length=target_sequence_length,\n",
    "                                                            time_major=False)\n",
    "         \n",
    "    # Basic decoder\n",
    "    drop_cell = tf.contrib.rnn.DropoutWrapper(dec_cell, input_keep_prob=keep_prob)\n",
    "\n",
    "    training_decoder = tf.contrib.seq2seq.BasicDecoder(drop_cell,\n",
    "                                                       training_helper,\n",
    "                                                       encoder_state,\n",
    "                                                       output_layer) \n",
    "        \n",
    "    # Perform dynamic decoding using the decoder\n",
    "    training_decoder_output = tf.contrib.seq2seq.dynamic_decode(training_decoder,\n",
    "                                                                impute_finished=True,\n",
    "                                                                maximum_iterations=max_summary_length)[0]\n",
    "    \n",
    "    '''\n",
    "    it's modified from seq2seq\n",
    "    '''\n",
    "    # TODO: Implement Function\n",
    "    return training_decoder_output\n",
    "\n",
    "\n",
    "\n",
    "\"\"\"\n",
    "DON'T MODIFY ANYTHING IN THIS CELL THAT IS BELOW THIS LINE\n",
    "\"\"\"\n",
    "tests.test_decoding_layer_train(decoding_layer_train)"
   ]
  },
  {
   "cell_type": "markdown",
   "metadata": {},
   "source": [
    "### Decoding - Inference\n",
    "Create inference decoder:\n",
    "* Create a [`tf.contrib.seq2seq.GreedyEmbeddingHelper`](https://www.tensorflow.org/api_docs/python/tf/contrib/seq2seq/GreedyEmbeddingHelper)\n",
    "* Create a [`tf.contrib.seq2seq.BasicDecoder`](https://www.tensorflow.org/api_docs/python/tf/contrib/seq2seq/BasicDecoder)\n",
    "* Obtain the decoder outputs from [`tf.contrib.seq2seq.dynamic_decode`](https://www.tensorflow.org/api_docs/python/tf/contrib/seq2seq/dynamic_decode)"
   ]
  },
  {
   "cell_type": "code",
   "execution_count": 13,
   "metadata": {
    "scrolled": true
   },
   "outputs": [
    {
     "name": "stdout",
     "output_type": "stream",
     "text": [
      "Tests Passed\n"
     ]
    }
   ],
   "source": [
    "def decoding_layer_infer(encoder_state, dec_cell, dec_embeddings, start_of_sequence_id,\n",
    "                         end_of_sequence_id, max_target_sequence_length,\n",
    "                         vocab_size, output_layer, batch_size, keep_prob):\n",
    "    \"\"\"\n",
    "    Create a decoding layer for inference\n",
    "    :param encoder_state: Encoder state\n",
    "    :param dec_cell: Decoder RNN Cell\n",
    "    :param dec_embeddings: Decoder embeddings\n",
    "    :param start_of_sequence_id: GO ID\n",
    "    :param end_of_sequence_id: EOS Id\n",
    "    :param max_target_sequence_length: Maximum length of target sequences\n",
    "    :param vocab_size: Size of decoder/target vocabulary\n",
    "    :param decoding_scope: TenorFlow Variable Scope for decoding\n",
    "    :param output_layer: Function to apply the output layer\n",
    "    :param batch_size: Batch size\n",
    "    :param keep_prob: Dropout keep probability\n",
    "    :return: BasicDecoderOutput containing inference logits and sample_id\n",
    "    \"\"\"\n",
    "    # TODO: Implement Function\n",
    "   \n",
    "    # Helper for the inference process.\n",
    "    start_tokens = tf.tile(tf.constant([start_of_sequence_id], dtype=tf.int32), [batch_size], name='start_tokens')\n",
    "\n",
    "\n",
    "    \n",
    "    inference_helper = tf.contrib.seq2seq.GreedyEmbeddingHelper(dec_embeddings,\n",
    "                                                                start_tokens,\n",
    "                                                                end_of_sequence_id)\n",
    "\n",
    "    # Basic decoder\n",
    "    drop_cell = tf.contrib.rnn.DropoutWrapper(dec_cell, input_keep_prob=keep_prob)\n",
    "    inference_decoder = tf.contrib.seq2seq.BasicDecoder(drop_cell,\n",
    "                                                        inference_helper,\n",
    "                                                        encoder_state,\n",
    "                                                        output_layer)\n",
    "        \n",
    "    # Perform dynamic decoding using the decoder\n",
    "    \n",
    "\n",
    "    inference_decoder_output = tf.contrib.seq2seq.dynamic_decode(inference_decoder,\n",
    "                                                            impute_finished=True,\n",
    "                                                            maximum_iterations=max_target_sequence_length)[0]\n",
    "    \n",
    "    \n",
    "\n",
    "    \n",
    "    \n",
    "    \n",
    "    '''\n",
    "    it's modified from seq2seq\n",
    "    reference:\n",
    "    https://www.tensorflow.org/api_docs/python/tf/tile\n",
    "\n",
    "    '''\n",
    "    return inference_decoder_output\n",
    "\n",
    "\"\"\"\n",
    "DON'T MODIFY ANYTHING IN THIS CELL THAT IS BELOW THIS LINE\n",
    "\"\"\"\n",
    "tests.test_decoding_layer_infer(decoding_layer_infer)"
   ]
  },
  {
   "cell_type": "markdown",
   "metadata": {},
   "source": [
    "### Build the Decoding Layer\n",
    "Implement `decoding_layer()` to create a Decoder RNN layer.\n",
    "\n",
    "* Embed the target sequences\n",
    "* Construct the decoder LSTM cell (just like you constructed the encoder cell above)\n",
    "* Create an output layer to map the outputs of the decoder to the elements of our vocabulary\n",
    "* Use the your `decoding_layer_train(encoder_state, dec_cell, dec_embed_input, target_sequence_length, max_target_sequence_length, output_layer, keep_prob)` function to get the training logits.\n",
    "* Use your `decoding_layer_infer(encoder_state, dec_cell, dec_embeddings, start_of_sequence_id, end_of_sequence_id, max_target_sequence_length, vocab_size, output_layer, batch_size, keep_prob)` function to get the inference logits.\n",
    "\n",
    "Note: You'll need to use [tf.variable_scope](https://www.tensorflow.org/api_docs/python/tf/variable_scope) to share variables between training and inference."
   ]
  },
  {
   "cell_type": "code",
   "execution_count": 20,
   "metadata": {},
   "outputs": [
    {
     "name": "stdout",
     "output_type": "stream",
     "text": [
      "Tests Passed\n"
     ]
    }
   ],
   "source": [
    "def decoding_layer(dec_input, encoder_state,\n",
    "                   target_sequence_length, max_target_sequence_length,\n",
    "                   rnn_size,\n",
    "                   num_layers, target_vocab_to_int, target_vocab_size,\n",
    "                   batch_size, keep_prob, decoding_embedding_size):\n",
    "    \"\"\"\n",
    "    Create decoding layer\n",
    "    :param dec_input: Decoder input\n",
    "    :param encoder_state: Encoder state\n",
    "    :param target_sequence_length: The lengths of each sequence in the target batch\n",
    "    :param max_target_sequence_length: Maximum length of target sequences\n",
    "    :param rnn_size: RNN Size\n",
    "    :param num_layers: Number of layers\n",
    "    :param target_vocab_to_int: Dictionary to go from the target words to an id\n",
    "    :param target_vocab_size: Size of target vocabulary\n",
    "    :param batch_size: The size of the batch\n",
    "    :param keep_prob: Dropout keep probability\n",
    "    :param decoding_embedding_size: Decoding embedding size\n",
    "    :return: Tuple of (Training BasicDecoderOutput, Inference BasicDecoderOutput)\n",
    "    \"\"\"\n",
    "    # TODO: Implement Function\n",
    "    # 1. Decoder Embedding\n",
    "    dec_embeddings = tf.Variable(tf.random_uniform([target_vocab_size, decoding_embedding_size]))\n",
    "    dec_embed_input = tf.nn.embedding_lookup(dec_embeddings, dec_input)\n",
    "\n",
    "\n",
    "    def make_cell(rnn_size):\n",
    "        dec_cell = tf.contrib.rnn.LSTMCell(rnn_size,\n",
    "                                           initializer=tf.random_uniform_initializer(-0.1, 0.1, seed=2))\n",
    "        return dec_cell\n",
    "    \n",
    "    dec_cell = tf.contrib.rnn.MultiRNNCell([make_cell(rnn_size) for _ in range(num_layers)])\n",
    "\n",
    "    output_layer = Dense(target_vocab_size,\n",
    "                         kernel_initializer = tf.truncated_normal_initializer(mean = 0.0, stddev=0.1))\n",
    "    \n",
    "    start_of_sequence_id = target_vocab_to_int['<GO>']\n",
    "    end_of_sequence_id = target_vocab_to_int['<EOS>']\n",
    "\n",
    "\n",
    "    with tf.variable_scope(\"decode\"):\n",
    "        training_decoder_output = decoding_layer_train(encoder_state, dec_cell, dec_embed_input, \n",
    "                         target_sequence_length, max_target_sequence_length, \n",
    "                         output_layer, keep_prob)\n",
    "        \n",
    "    \n",
    "    with tf.variable_scope(\"decode\", reuse=True):\n",
    "        inference_decoder_output = decoding_layer_infer(encoder_state, dec_cell, dec_embeddings, start_of_sequence_id,\n",
    "                         end_of_sequence_id, max_target_sequence_length,\n",
    "                         target_vocab_size, output_layer, batch_size, keep_prob)\n",
    "    \n",
    "\n",
    "\n",
    "    \n",
    "    return training_decoder_output, inference_decoder_output\n",
    "\n",
    "\n",
    "\n",
    "\"\"\"\n",
    "DON'T MODIFY ANYTHING IN THIS CELL THAT IS BELOW THIS LINE\n",
    "\"\"\"\n",
    "tests.test_decoding_layer(decoding_layer)"
   ]
  },
  {
   "cell_type": "markdown",
   "metadata": {},
   "source": [
    "### Build the Neural Network\n",
    "Apply the functions you implemented above to:\n",
    "\n",
    "- Encode the input using your `encoding_layer(rnn_inputs, rnn_size, num_layers, keep_prob,  source_sequence_length, source_vocab_size, encoding_embedding_size)`.\n",
    "- Process target data using your `process_decoder_input(target_data, target_vocab_to_int, batch_size)` function.\n",
    "- Decode the encoded input using your `decoding_layer(dec_input, enc_state, target_sequence_length, max_target_sentence_length, rnn_size, num_layers, target_vocab_to_int, target_vocab_size, batch_size, keep_prob, dec_embedding_size)` function."
   ]
  },
  {
   "cell_type": "code",
   "execution_count": 27,
   "metadata": {},
   "outputs": [
    {
     "name": "stdout",
     "output_type": "stream",
     "text": [
      "Tests Passed\n"
     ]
    }
   ],
   "source": [
    "def seq2seq_model(input_data, target_data, keep_prob, batch_size,\n",
    "                  source_sequence_length, target_sequence_length,\n",
    "                  max_target_sentence_length,\n",
    "                  source_vocab_size, target_vocab_size,\n",
    "                  enc_embedding_size, dec_embedding_size,\n",
    "                  rnn_size, num_layers, target_vocab_to_int):\n",
    "    \"\"\"\n",
    "    Build the Sequence-to-Sequence part of the neural network\n",
    "    :param input_data: Input placeholder\n",
    "    :param target_data: Target placeholder\n",
    "    :param keep_prob: Dropout keep probability placeholder\n",
    "    :param batch_size: Batch Size\n",
    "    :param source_sequence_length: Sequence Lengths of source sequences in the batch\n",
    "    :param target_sequence_length: Sequence Lengths of target sequences in the batch\n",
    "    :param source_vocab_size: Source vocabulary size\n",
    "    :param target_vocab_size: Target vocabulary size\n",
    "    :param enc_embedding_size: Decoder embedding size\n",
    "    :param dec_embedding_size: Encoder embedding size\n",
    "    :param rnn_size: RNN Size\n",
    "    :param num_layers: Number of layers\n",
    "    :param target_vocab_to_int: Dictionary to go from the target words to an id\n",
    "    :return: Tuple of (Training BasicDecoderOutput, Inference BasicDecoderOutput)\n",
    "    \"\"\"\n",
    "    # TODO: Implement Function\n",
    "    \n",
    "    # Pass the input data through the encoder. We'll ignore the encoder output, but use the state\n",
    "    _, encoder_state = encoding_layer(input_data, \n",
    "                   rnn_size, \n",
    "                   num_layers, \n",
    "                   keep_prob, \n",
    "                   source_sequence_length, \n",
    "                   source_vocab_size, \n",
    "                   enc_embedding_size)\n",
    "   \n",
    "    \n",
    "    \n",
    "    # Prepare the target sequences we'll feed to the decoder in training mode\n",
    "    dec_input = process_decoder_input(target_data, target_vocab_to_int, batch_size)\n",
    "    \n",
    "    # Pass encoder state and decoder inputs to the decoders\n",
    "    training_decoder_output, inference_decoder_output = decoding_layer(dec_input, \n",
    "                   encoder_state,\n",
    "                   target_sequence_length, \n",
    "                   max_target_sentence_length,\n",
    "                   rnn_size,\n",
    "                   num_layers, \n",
    "                   target_vocab_to_int, \n",
    "                   target_vocab_size,\n",
    "                   batch_size, \n",
    "                   keep_prob, \n",
    "                   dec_embedding_size)\n",
    "\n",
    "    '''\n",
    "    it's modified from seq2seq\n",
    "    reference:\n",
    "    https://www.tensorflow.org/api_docs/python/tf/tile\n",
    "\n",
    "    '''\n",
    "    return training_decoder_output, inference_decoder_output\n",
    "\n",
    "\n",
    "\"\"\"\n",
    "DON'T MODIFY ANYTHING IN THIS CELL THAT IS BELOW THIS LINE\n",
    "\"\"\"\n",
    "tests.test_seq2seq_model(seq2seq_model)"
   ]
  },
  {
   "cell_type": "markdown",
   "metadata": {},
   "source": [
    "## Neural Network Training\n",
    "### Hyperparameters\n",
    "Tune the following parameters:\n",
    "\n",
    "- Set `epochs` to the number of epochs.\n",
    "- Set `batch_size` to the batch size.\n",
    "- Set `rnn_size` to the size of the RNNs.\n",
    "- Set `num_layers` to the number of layers.\n",
    "- Set `encoding_embedding_size` to the size of the embedding for the encoder.\n",
    "- Set `decoding_embedding_size` to the size of the embedding for the decoder.\n",
    "- Set `learning_rate` to the learning rate.\n",
    "- Set `keep_probability` to the Dropout keep probability\n",
    "- Set `display_step` to state how many steps between each debug output statement"
   ]
  },
  {
   "cell_type": "code",
   "execution_count": 32,
   "metadata": {
    "collapsed": true
   },
   "outputs": [],
   "source": [
    "# Number of Epochs\n",
    "epochs = 1000\n",
    "# Batch Size\n",
    "batch_size = 128\n",
    "# RNN Size\n",
    "rnn_size = 128\n",
    "# Number of Layers\n",
    "num_layers = 3\n",
    "# Embedding Size\n",
    "encoding_embedding_size = 30\n",
    "decoding_embedding_size = 30\n",
    "# Learning Rate\n",
    "learning_rate = 0.001\n",
    "# Dropout Keep Probability\n",
    "keep_probability = 0.5\n",
    "display_step = 10"
   ]
  },
  {
   "cell_type": "markdown",
   "metadata": {},
   "source": [
    "### Build the Graph\n",
    "Build the graph using the neural network you implemented."
   ]
  },
  {
   "cell_type": "code",
   "execution_count": 33,
   "metadata": {
    "collapsed": true
   },
   "outputs": [],
   "source": [
    "\"\"\"\n",
    "DON'T MODIFY ANYTHING IN THIS CELL\n",
    "\"\"\"\n",
    "save_path = 'checkpoints/dev'\n",
    "(source_int_text, target_int_text), (source_vocab_to_int, target_vocab_to_int), _ = helper.load_preprocess()\n",
    "max_target_sentence_length = max([len(sentence) for sentence in source_int_text])\n",
    "\n",
    "train_graph = tf.Graph()\n",
    "with train_graph.as_default():\n",
    "    input_data, targets, lr, keep_prob, target_sequence_length, max_target_sequence_length, source_sequence_length = model_inputs()\n",
    "\n",
    "    #sequence_length = tf.placeholder_with_default(max_target_sentence_length, None, name='sequence_length')\n",
    "    input_shape = tf.shape(input_data)\n",
    "\n",
    "    train_logits, inference_logits = seq2seq_model(tf.reverse(input_data, [-1]),\n",
    "                                                   targets,\n",
    "                                                   keep_prob,\n",
    "                                                   batch_size,\n",
    "                                                   source_sequence_length,\n",
    "                                                   target_sequence_length,\n",
    "                                                   max_target_sequence_length,\n",
    "                                                   len(source_vocab_to_int),\n",
    "                                                   len(target_vocab_to_int),\n",
    "                                                   encoding_embedding_size,\n",
    "                                                   decoding_embedding_size,\n",
    "                                                   rnn_size,\n",
    "                                                   num_layers,\n",
    "                                                   target_vocab_to_int)\n",
    "\n",
    "\n",
    "    training_logits = tf.identity(train_logits.rnn_output, name='logits')\n",
    "    inference_logits = tf.identity(inference_logits.sample_id, name='predictions')\n",
    "\n",
    "    masks = tf.sequence_mask(target_sequence_length, max_target_sequence_length, dtype=tf.float32, name='masks')\n",
    "\n",
    "    with tf.name_scope(\"optimization\"):\n",
    "        # Loss function\n",
    "        cost = tf.contrib.seq2seq.sequence_loss(\n",
    "            training_logits,\n",
    "            targets,\n",
    "            masks)\n",
    "\n",
    "        # Optimizer\n",
    "        optimizer = tf.train.AdamOptimizer(lr)\n",
    "\n",
    "        # Gradient Clipping\n",
    "        gradients = optimizer.compute_gradients(cost)\n",
    "        capped_gradients = [(tf.clip_by_value(grad, -1., 1.), var) for grad, var in gradients if grad is not None]\n",
    "        train_op = optimizer.apply_gradients(capped_gradients)\n"
   ]
  },
  {
   "cell_type": "markdown",
   "metadata": {},
   "source": [
    "Batch and pad the source and target sequences"
   ]
  },
  {
   "cell_type": "code",
   "execution_count": null,
   "metadata": {
    "collapsed": true
   },
   "outputs": [],
   "source": [
    "\"\"\"\n",
    "DON'T MODIFY ANYTHING IN THIS CELL\n",
    "\"\"\"\n",
    "def pad_sentence_batch(sentence_batch, pad_int):\n",
    "    \"\"\"Pad sentences with <PAD> so that each sentence of a batch has the same length\"\"\"\n",
    "    max_sentence = max([len(sentence) for sentence in sentence_batch])\n",
    "    return [sentence + [pad_int] * (max_sentence - len(sentence)) for sentence in sentence_batch]\n",
    "\n",
    "\n",
    "def get_batches(sources, targets, batch_size, source_pad_int, target_pad_int):\n",
    "    \"\"\"Batch targets, sources, and the lengths of their sentences together\"\"\"\n",
    "    for batch_i in range(0, len(sources)//batch_size):\n",
    "        start_i = batch_i * batch_size\n",
    "\n",
    "        # Slice the right amount for the batch\n",
    "        sources_batch = sources[start_i:start_i + batch_size]\n",
    "        targets_batch = targets[start_i:start_i + batch_size]\n",
    "\n",
    "        # Pad\n",
    "        pad_sources_batch = np.array(pad_sentence_batch(sources_batch, source_pad_int))\n",
    "        pad_targets_batch = np.array(pad_sentence_batch(targets_batch, target_pad_int))\n",
    "\n",
    "        # Need the lengths for the _lengths parameters\n",
    "        pad_targets_lengths = []\n",
    "        for target in pad_targets_batch:\n",
    "            pad_targets_lengths.append(len(target))\n",
    "\n",
    "        pad_source_lengths = []\n",
    "        for source in pad_sources_batch:\n",
    "            pad_source_lengths.append(len(source))\n",
    "\n",
    "        yield pad_sources_batch, pad_targets_batch, pad_source_lengths, pad_targets_lengths\n"
   ]
  },
  {
   "cell_type": "markdown",
   "metadata": {},
   "source": [
    "### Train\n",
    "Train the neural network on the preprocessed data. If you have a hard time getting a good loss, check the forms to see if anyone is having the same problem."
   ]
  },
  {
   "cell_type": "code",
   "execution_count": null,
   "metadata": {
    "scrolled": true
   },
   "outputs": [
    {
     "name": "stdout",
     "output_type": "stream",
     "text": [
      "Epoch   0 Batch   10/1008 - Train Accuracy: 0.2311, Validation Accuracy: 0.3388, Loss: 4.4899\n",
      "Epoch   0 Batch   20/1008 - Train Accuracy: 0.2918, Validation Accuracy: 0.3604, Loss: 3.5008\n",
      "Epoch   0 Batch   30/1008 - Train Accuracy: 0.3020, Validation Accuracy: 0.3778, Loss: 3.3250\n",
      "Epoch   0 Batch   40/1008 - Train Accuracy: 0.3393, Validation Accuracy: 0.3807, Loss: 3.0799\n",
      "Epoch   0 Batch   50/1008 - Train Accuracy: 0.3336, Validation Accuracy: 0.3846, Loss: 3.1169\n",
      "Epoch   0 Batch   60/1008 - Train Accuracy: 0.3195, Validation Accuracy: 0.3888, Loss: 3.0330\n",
      "Epoch   0 Batch   70/1008 - Train Accuracy: 0.3211, Validation Accuracy: 0.3860, Loss: 2.9683\n",
      "Epoch   0 Batch   80/1008 - Train Accuracy: 0.3242, Validation Accuracy: 0.3924, Loss: 2.9849\n",
      "Epoch   0 Batch   90/1008 - Train Accuracy: 0.3051, Validation Accuracy: 0.3913, Loss: 3.0770\n",
      "Epoch   0 Batch  100/1008 - Train Accuracy: 0.3359, Validation Accuracy: 0.3913, Loss: 2.8563\n",
      "Epoch   0 Batch  110/1008 - Train Accuracy: 0.3324, Validation Accuracy: 0.3913, Loss: 2.8558\n",
      "Epoch   0 Batch  120/1008 - Train Accuracy: 0.3348, Validation Accuracy: 0.3977, Loss: 2.8006\n",
      "Epoch   0 Batch  130/1008 - Train Accuracy: 0.3211, Validation Accuracy: 0.3977, Loss: 2.8348\n",
      "Epoch   0 Batch  140/1008 - Train Accuracy: 0.3586, Validation Accuracy: 0.3839, Loss: 2.5491\n",
      "Epoch   0 Batch  150/1008 - Train Accuracy: 0.2924, Validation Accuracy: 0.3778, Loss: 2.8622\n",
      "Epoch   0 Batch  160/1008 - Train Accuracy: 0.3156, Validation Accuracy: 0.3704, Loss: 2.5761\n",
      "Epoch   0 Batch  170/1008 - Train Accuracy: 0.2652, Validation Accuracy: 0.3683, Loss: 2.7739\n",
      "Epoch   0 Batch  180/1008 - Train Accuracy: 0.3160, Validation Accuracy: 0.3768, Loss: 2.6421\n",
      "Epoch   0 Batch  190/1008 - Train Accuracy: 0.3051, Validation Accuracy: 0.3725, Loss: 2.4972\n",
      "Epoch   0 Batch  200/1008 - Train Accuracy: 0.3094, Validation Accuracy: 0.3743, Loss: 2.4979\n",
      "Epoch   0 Batch  210/1008 - Train Accuracy: 0.3148, Validation Accuracy: 0.3768, Loss: 2.4526\n",
      "Epoch   0 Batch  220/1008 - Train Accuracy: 0.3274, Validation Accuracy: 0.3743, Loss: 2.3620\n",
      "Epoch   0 Batch  230/1008 - Train Accuracy: 0.3430, Validation Accuracy: 0.3743, Loss: 2.3453\n",
      "Epoch   0 Batch  240/1008 - Train Accuracy: 0.3661, Validation Accuracy: 0.3654, Loss: 2.2710\n",
      "Epoch   0 Batch  250/1008 - Train Accuracy: 0.3004, Validation Accuracy: 0.3683, Loss: 2.3688\n",
      "Epoch   0 Batch  260/1008 - Train Accuracy: 0.2969, Validation Accuracy: 0.3633, Loss: 2.4037\n",
      "Epoch   0 Batch  270/1008 - Train Accuracy: 0.3281, Validation Accuracy: 0.3647, Loss: 2.2308\n",
      "Epoch   0 Batch  280/1008 - Train Accuracy: 0.3367, Validation Accuracy: 0.3647, Loss: 2.0944\n",
      "Epoch   0 Batch  290/1008 - Train Accuracy: 0.3296, Validation Accuracy: 0.3540, Loss: 2.1075\n",
      "Epoch   0 Batch  300/1008 - Train Accuracy: 0.3000, Validation Accuracy: 0.3544, Loss: 2.2279\n",
      "Epoch   0 Batch  310/1008 - Train Accuracy: 0.3229, Validation Accuracy: 0.3647, Loss: 2.1673\n",
      "Epoch   0 Batch  320/1008 - Train Accuracy: 0.3137, Validation Accuracy: 0.3544, Loss: 2.1033\n",
      "Epoch   0 Batch  330/1008 - Train Accuracy: 0.3188, Validation Accuracy: 0.3544, Loss: 2.0157\n",
      "Epoch   0 Batch  340/1008 - Train Accuracy: 0.3032, Validation Accuracy: 0.3544, Loss: 2.0902\n",
      "Epoch   0 Batch  350/1008 - Train Accuracy: 0.2926, Validation Accuracy: 0.3544, Loss: 2.1069\n",
      "Epoch   0 Batch  360/1008 - Train Accuracy: 0.2965, Validation Accuracy: 0.3558, Loss: 1.9827\n",
      "Epoch   0 Batch  370/1008 - Train Accuracy: 0.3583, Validation Accuracy: 0.3633, Loss: 1.8953\n",
      "Epoch   0 Batch  380/1008 - Train Accuracy: 0.2714, Validation Accuracy: 0.3601, Loss: 2.0767\n",
      "Epoch   0 Batch  390/1008 - Train Accuracy: 0.3281, Validation Accuracy: 0.3601, Loss: 1.8218\n",
      "Epoch   0 Batch  400/1008 - Train Accuracy: 0.3004, Validation Accuracy: 0.3601, Loss: 1.9874\n",
      "Epoch   0 Batch  410/1008 - Train Accuracy: 0.2824, Validation Accuracy: 0.3587, Loss: 1.9429\n",
      "Epoch   0 Batch  420/1008 - Train Accuracy: 0.3307, Validation Accuracy: 0.3601, Loss: 1.8755\n",
      "Epoch   0 Batch  430/1008 - Train Accuracy: 0.3012, Validation Accuracy: 0.3587, Loss: 1.8455\n",
      "Epoch   0 Batch  440/1008 - Train Accuracy: 0.3070, Validation Accuracy: 0.3590, Loss: 1.8990\n",
      "Epoch   0 Batch  450/1008 - Train Accuracy: 0.2680, Validation Accuracy: 0.3587, Loss: 1.7983\n",
      "Epoch   0 Batch  460/1008 - Train Accuracy: 0.3233, Validation Accuracy: 0.3398, Loss: 1.7223\n",
      "Epoch   0 Batch  470/1008 - Train Accuracy: 0.2512, Validation Accuracy: 0.3381, Loss: 1.8054\n",
      "Epoch   0 Batch  480/1008 - Train Accuracy: 0.2816, Validation Accuracy: 0.3381, Loss: 1.7226\n",
      "Epoch   0 Batch  490/1008 - Train Accuracy: 0.2828, Validation Accuracy: 0.3391, Loss: 1.6460\n",
      "Epoch   0 Batch  500/1008 - Train Accuracy: 0.3292, Validation Accuracy: 0.3388, Loss: 1.5609\n",
      "Epoch   0 Batch  510/1008 - Train Accuracy: 0.2949, Validation Accuracy: 0.3480, Loss: 1.5624\n",
      "Epoch   0 Batch  520/1008 - Train Accuracy: 0.2801, Validation Accuracy: 0.3594, Loss: 1.5999\n",
      "Epoch   0 Batch  530/1008 - Train Accuracy: 0.3098, Validation Accuracy: 0.3473, Loss: 1.5743\n",
      "Epoch   0 Batch  540/1008 - Train Accuracy: 0.2770, Validation Accuracy: 0.3587, Loss: 1.6312\n",
      "Epoch   0 Batch  550/1008 - Train Accuracy: 0.2898, Validation Accuracy: 0.3572, Loss: 1.5541\n",
      "Epoch   0 Batch  560/1008 - Train Accuracy: 0.2891, Validation Accuracy: 0.3473, Loss: 1.4880\n",
      "Epoch   0 Batch  570/1008 - Train Accuracy: 0.3074, Validation Accuracy: 0.3622, Loss: 1.4756\n",
      "Epoch   0 Batch  580/1008 - Train Accuracy: 0.2488, Validation Accuracy: 0.3619, Loss: 1.5601\n",
      "Epoch   0 Batch  590/1008 - Train Accuracy: 0.2633, Validation Accuracy: 0.3619, Loss: 1.4536\n",
      "Epoch   0 Batch  600/1008 - Train Accuracy: 0.2323, Validation Accuracy: 0.3583, Loss: 1.5481\n",
      "Epoch   0 Batch  610/1008 - Train Accuracy: 0.2762, Validation Accuracy: 0.3619, Loss: 1.4511\n",
      "Epoch   0 Batch  620/1008 - Train Accuracy: 0.2758, Validation Accuracy: 0.3601, Loss: 1.4120\n",
      "Epoch   0 Batch  630/1008 - Train Accuracy: 0.3170, Validation Accuracy: 0.3583, Loss: 1.3156\n",
      "Epoch   0 Batch  640/1008 - Train Accuracy: 0.2809, Validation Accuracy: 0.3587, Loss: 1.3636\n",
      "Epoch   0 Batch  650/1008 - Train Accuracy: 0.3129, Validation Accuracy: 0.3572, Loss: 1.3273\n",
      "Epoch   0 Batch  660/1008 - Train Accuracy: 0.2549, Validation Accuracy: 0.3580, Loss: 1.4302\n",
      "Epoch   0 Batch  670/1008 - Train Accuracy: 0.2949, Validation Accuracy: 0.3562, Loss: 1.3817\n",
      "Epoch   0 Batch  680/1008 - Train Accuracy: 0.2537, Validation Accuracy: 0.3569, Loss: 1.4122\n",
      "Epoch   0 Batch  690/1008 - Train Accuracy: 0.3114, Validation Accuracy: 0.3540, Loss: 1.3357\n",
      "Epoch   0 Batch  700/1008 - Train Accuracy: 0.2633, Validation Accuracy: 0.3562, Loss: 1.3334\n",
      "Epoch   0 Batch  710/1008 - Train Accuracy: 0.2941, Validation Accuracy: 0.3540, Loss: 1.3300\n",
      "Epoch   0 Batch  720/1008 - Train Accuracy: 0.2467, Validation Accuracy: 0.3576, Loss: 1.4340\n",
      "Epoch   0 Batch  730/1008 - Train Accuracy: 0.2637, Validation Accuracy: 0.3565, Loss: 1.3317\n",
      "Epoch   0 Batch  740/1008 - Train Accuracy: 0.2664, Validation Accuracy: 0.3310, Loss: 1.2288\n",
      "Epoch   0 Batch  750/1008 - Train Accuracy: 0.2750, Validation Accuracy: 0.3352, Loss: 1.2649\n",
      "Epoch   0 Batch  760/1008 - Train Accuracy: 0.2582, Validation Accuracy: 0.3320, Loss: 1.2711\n",
      "Epoch   0 Batch  770/1008 - Train Accuracy: 0.2842, Validation Accuracy: 0.3303, Loss: 1.2058\n",
      "Epoch   0 Batch  780/1008 - Train Accuracy: 0.2711, Validation Accuracy: 0.3317, Loss: 1.2242\n",
      "Epoch   0 Batch  790/1008 - Train Accuracy: 0.2500, Validation Accuracy: 0.3338, Loss: 1.2633\n",
      "Epoch   0 Batch  800/1008 - Train Accuracy: 0.3222, Validation Accuracy: 0.3338, Loss: 1.2168\n",
      "Epoch   0 Batch  810/1008 - Train Accuracy: 0.2637, Validation Accuracy: 0.3303, Loss: 1.2463\n",
      "Epoch   0 Batch  820/1008 - Train Accuracy: 0.3221, Validation Accuracy: 0.3342, Loss: 1.1296\n",
      "Epoch   0 Batch  830/1008 - Train Accuracy: 0.3017, Validation Accuracy: 0.3356, Loss: 1.1823\n",
      "Epoch   0 Batch  840/1008 - Train Accuracy: 0.2660, Validation Accuracy: 0.3345, Loss: 1.2025\n",
      "Epoch   0 Batch  850/1008 - Train Accuracy: 0.2391, Validation Accuracy: 0.3317, Loss: 1.1795\n",
      "Epoch   0 Batch  860/1008 - Train Accuracy: 0.2477, Validation Accuracy: 0.3320, Loss: 1.2284\n",
      "Epoch   0 Batch  870/1008 - Train Accuracy: 0.3150, Validation Accuracy: 0.3335, Loss: 1.0758\n",
      "Epoch   0 Batch  880/1008 - Train Accuracy: 0.2865, Validation Accuracy: 0.3292, Loss: 1.1079\n"
     ]
    },
    {
     "name": "stdout",
     "output_type": "stream",
     "text": [
      "Epoch   0 Batch  890/1008 - Train Accuracy: 0.2906, Validation Accuracy: 0.3320, Loss: 1.1620\n",
      "Epoch   0 Batch  900/1008 - Train Accuracy: 0.3971, Validation Accuracy: 0.3299, Loss: 0.9832\n",
      "Epoch   0 Batch  910/1008 - Train Accuracy: 0.2954, Validation Accuracy: 0.3313, Loss: 1.1572\n",
      "Epoch   0 Batch  920/1008 - Train Accuracy: 0.2738, Validation Accuracy: 0.3306, Loss: 1.1456\n",
      "Epoch   0 Batch  930/1008 - Train Accuracy: 0.2179, Validation Accuracy: 0.3342, Loss: 1.2094\n",
      "Epoch   0 Batch  940/1008 - Train Accuracy: 0.2508, Validation Accuracy: 0.3342, Loss: 1.1562\n",
      "Epoch   0 Batch  950/1008 - Train Accuracy: 0.3672, Validation Accuracy: 0.3288, Loss: 1.0139\n",
      "Epoch   0 Batch  960/1008 - Train Accuracy: 0.2422, Validation Accuracy: 0.3331, Loss: 1.1453\n",
      "Epoch   0 Batch  970/1008 - Train Accuracy: 0.2645, Validation Accuracy: 0.3306, Loss: 1.1256\n",
      "Epoch   0 Batch  980/1008 - Train Accuracy: 0.2383, Validation Accuracy: 0.3356, Loss: 1.1204\n",
      "Epoch   0 Batch  990/1008 - Train Accuracy: 0.2850, Validation Accuracy: 0.3345, Loss: 1.0487\n",
      "Epoch   0 Batch 1000/1008 - Train Accuracy: 0.2672, Validation Accuracy: 0.3278, Loss: 1.0877\n",
      "Epoch   1 Batch   10/1008 - Train Accuracy: 0.2290, Validation Accuracy: 0.3335, Loss: 1.1666\n",
      "Epoch   1 Batch   20/1008 - Train Accuracy: 0.2676, Validation Accuracy: 0.3299, Loss: 1.0789\n",
      "Epoch   1 Batch   30/1008 - Train Accuracy: 0.2598, Validation Accuracy: 0.3292, Loss: 1.0816\n",
      "Epoch   1 Batch   40/1008 - Train Accuracy: 0.3114, Validation Accuracy: 0.3331, Loss: 1.0469\n",
      "Epoch   1 Batch   50/1008 - Train Accuracy: 0.2437, Validation Accuracy: 0.3295, Loss: 1.1019\n",
      "Epoch   1 Batch   60/1008 - Train Accuracy: 0.2523, Validation Accuracy: 0.3303, Loss: 1.0867\n",
      "Epoch   1 Batch   70/1008 - Train Accuracy: 0.2664, Validation Accuracy: 0.3338, Loss: 1.0477\n",
      "Epoch   1 Batch   80/1008 - Train Accuracy: 0.2609, Validation Accuracy: 0.3303, Loss: 1.0831\n",
      "Epoch   1 Batch   90/1008 - Train Accuracy: 0.2397, Validation Accuracy: 0.3338, Loss: 1.1036\n",
      "Epoch   1 Batch  100/1008 - Train Accuracy: 0.2777, Validation Accuracy: 0.3310, Loss: 1.0535\n",
      "Epoch   1 Batch  110/1008 - Train Accuracy: 0.2496, Validation Accuracy: 0.3345, Loss: 1.0838\n",
      "Epoch   1 Batch  120/1008 - Train Accuracy: 0.2680, Validation Accuracy: 0.3295, Loss: 1.0379\n",
      "Epoch   1 Batch  130/1008 - Train Accuracy: 0.2465, Validation Accuracy: 0.3363, Loss: 1.0729\n",
      "Epoch   1 Batch  140/1008 - Train Accuracy: 0.3002, Validation Accuracy: 0.3306, Loss: 0.9775\n",
      "Epoch   1 Batch  150/1008 - Train Accuracy: 0.2200, Validation Accuracy: 0.3310, Loss: 1.1313\n",
      "Epoch   1 Batch  160/1008 - Train Accuracy: 0.2812, Validation Accuracy: 0.3320, Loss: 1.0313\n",
      "Epoch   1 Batch  170/1008 - Train Accuracy: 0.2294, Validation Accuracy: 0.3306, Loss: 1.0990\n",
      "Epoch   1 Batch  180/1008 - Train Accuracy: 0.2676, Validation Accuracy: 0.3338, Loss: 1.0445\n",
      "Epoch   1 Batch  190/1008 - Train Accuracy: 0.2422, Validation Accuracy: 0.3306, Loss: 1.0182\n",
      "Epoch   1 Batch  200/1008 - Train Accuracy: 0.2387, Validation Accuracy: 0.3313, Loss: 1.0401\n",
      "Epoch   1 Batch  210/1008 - Train Accuracy: 0.2707, Validation Accuracy: 0.3356, Loss: 0.9748\n",
      "Epoch   1 Batch  220/1008 - Train Accuracy: 0.2641, Validation Accuracy: 0.3295, Loss: 1.0009\n",
      "Epoch   1 Batch  230/1008 - Train Accuracy: 0.2738, Validation Accuracy: 0.3310, Loss: 1.0521\n",
      "Epoch   1 Batch  240/1008 - Train Accuracy: 0.3374, Validation Accuracy: 0.3317, Loss: 0.9515\n",
      "Epoch   1 Batch  250/1008 - Train Accuracy: 0.2598, Validation Accuracy: 0.3338, Loss: 1.0375\n",
      "Epoch   1 Batch  260/1008 - Train Accuracy: 0.2539, Validation Accuracy: 0.3335, Loss: 1.0313\n",
      "Epoch   1 Batch  270/1008 - Train Accuracy: 0.2999, Validation Accuracy: 0.3292, Loss: 0.9869\n",
      "Epoch   1 Batch  280/1008 - Train Accuracy: 0.2879, Validation Accuracy: 0.3310, Loss: 0.9692\n",
      "Epoch   1 Batch  290/1008 - Train Accuracy: 0.2891, Validation Accuracy: 0.3303, Loss: 0.9504\n",
      "Epoch   1 Batch  300/1008 - Train Accuracy: 0.2418, Validation Accuracy: 0.3324, Loss: 1.0058\n",
      "Epoch   1 Batch  310/1008 - Train Accuracy: 0.2723, Validation Accuracy: 0.3299, Loss: 0.9375\n",
      "Epoch   1 Batch  320/1008 - Train Accuracy: 0.2449, Validation Accuracy: 0.3338, Loss: 0.9719\n",
      "Epoch   1 Batch  330/1008 - Train Accuracy: 0.2920, Validation Accuracy: 0.3295, Loss: 0.9452\n",
      "Epoch   1 Batch  340/1008 - Train Accuracy: 0.3028, Validation Accuracy: 0.3303, Loss: 0.9269\n",
      "Epoch   1 Batch  350/1008 - Train Accuracy: 0.2516, Validation Accuracy: 0.3295, Loss: 1.0015\n",
      "Epoch   1 Batch  360/1008 - Train Accuracy: 0.2547, Validation Accuracy: 0.3313, Loss: 0.9567\n",
      "Epoch   1 Batch  370/1008 - Train Accuracy: 0.3374, Validation Accuracy: 0.3317, Loss: 0.9421\n",
      "Epoch   1 Batch  380/1008 - Train Accuracy: 0.2015, Validation Accuracy: 0.3320, Loss: 1.0157\n",
      "Epoch   1 Batch  390/1008 - Train Accuracy: 0.2984, Validation Accuracy: 0.3299, Loss: 0.9286\n",
      "Epoch   1 Batch  400/1008 - Train Accuracy: 0.2551, Validation Accuracy: 0.3317, Loss: 0.9939\n",
      "Epoch   1 Batch  410/1008 - Train Accuracy: 0.2410, Validation Accuracy: 0.3310, Loss: 0.9907\n",
      "Epoch   1 Batch  420/1008 - Train Accuracy: 0.2909, Validation Accuracy: 0.3299, Loss: 0.9581\n",
      "Epoch   1 Batch  430/1008 - Train Accuracy: 0.2738, Validation Accuracy: 0.3331, Loss: 0.9421\n",
      "Epoch   1 Batch  440/1008 - Train Accuracy: 0.2707, Validation Accuracy: 0.3303, Loss: 0.9843\n",
      "Epoch   1 Batch  450/1008 - Train Accuracy: 0.2367, Validation Accuracy: 0.3349, Loss: 0.9694\n",
      "Epoch   1 Batch  460/1008 - Train Accuracy: 0.2898, Validation Accuracy: 0.3327, Loss: 0.9306\n",
      "Epoch   1 Batch  470/1008 - Train Accuracy: 0.2381, Validation Accuracy: 0.3335, Loss: 1.0200\n",
      "Epoch   1 Batch  480/1008 - Train Accuracy: 0.2363, Validation Accuracy: 0.3306, Loss: 0.9632\n",
      "Epoch   1 Batch  490/1008 - Train Accuracy: 0.2801, Validation Accuracy: 0.3342, Loss: 0.9197\n",
      "Epoch   1 Batch  500/1008 - Train Accuracy: 0.3088, Validation Accuracy: 0.3335, Loss: 0.9093\n",
      "Epoch   1 Batch  510/1008 - Train Accuracy: 0.2613, Validation Accuracy: 0.3310, Loss: 0.9281\n",
      "Epoch   1 Batch  520/1008 - Train Accuracy: 0.2434, Validation Accuracy: 0.3356, Loss: 0.9610\n",
      "Epoch   1 Batch  530/1008 - Train Accuracy: 0.2664, Validation Accuracy: 0.3327, Loss: 0.9583\n",
      "Epoch   1 Batch  540/1008 - Train Accuracy: 0.2504, Validation Accuracy: 0.3359, Loss: 1.0045\n",
      "Epoch   1 Batch  550/1008 - Train Accuracy: 0.2602, Validation Accuracy: 0.3313, Loss: 0.9761\n",
      "Epoch   1 Batch  560/1008 - Train Accuracy: 0.2676, Validation Accuracy: 0.3352, Loss: 0.9230\n",
      "Epoch   1 Batch  570/1008 - Train Accuracy: 0.2742, Validation Accuracy: 0.3317, Loss: 0.9179\n",
      "Epoch   1 Batch  580/1008 - Train Accuracy: 0.2183, Validation Accuracy: 0.3303, Loss: 0.9841\n",
      "Epoch   1 Batch  590/1008 - Train Accuracy: 0.2359, Validation Accuracy: 0.3320, Loss: 0.9102\n",
      "Epoch   1 Batch  600/1008 - Train Accuracy: 0.2171, Validation Accuracy: 0.3306, Loss: 0.9846\n",
      "Epoch   1 Batch  610/1008 - Train Accuracy: 0.2566, Validation Accuracy: 0.3306, Loss: 0.9214\n",
      "Epoch   1 Batch  620/1008 - Train Accuracy: 0.2328, Validation Accuracy: 0.3299, Loss: 0.9137\n",
      "Epoch   1 Batch  630/1008 - Train Accuracy: 0.2972, Validation Accuracy: 0.3352, Loss: 0.8702\n",
      "Epoch   1 Batch  640/1008 - Train Accuracy: 0.2414, Validation Accuracy: 0.3299, Loss: 0.9386\n",
      "Epoch   1 Batch  650/1008 - Train Accuracy: 0.2868, Validation Accuracy: 0.3317, Loss: 0.8611\n",
      "Epoch   1 Batch  660/1008 - Train Accuracy: 0.2216, Validation Accuracy: 0.3292, Loss: 0.9719\n",
      "Epoch   1 Batch  670/1008 - Train Accuracy: 0.2648, Validation Accuracy: 0.3356, Loss: 0.9331\n",
      "Epoch   1 Batch  680/1008 - Train Accuracy: 0.2245, Validation Accuracy: 0.3310, Loss: 0.9831\n",
      "Epoch   1 Batch  690/1008 - Train Accuracy: 0.3002, Validation Accuracy: 0.3295, Loss: 0.9105\n",
      "Epoch   1 Batch  700/1008 - Train Accuracy: 0.2410, Validation Accuracy: 0.3317, Loss: 0.9177\n",
      "Epoch   1 Batch  710/1008 - Train Accuracy: 0.2711, Validation Accuracy: 0.3335, Loss: 0.9226\n",
      "Epoch   1 Batch  720/1008 - Train Accuracy: 0.2299, Validation Accuracy: 0.3338, Loss: 0.9546\n",
      "Epoch   1 Batch  730/1008 - Train Accuracy: 0.2484, Validation Accuracy: 0.3281, Loss: 0.9288\n",
      "Epoch   1 Batch  740/1008 - Train Accuracy: 0.2664, Validation Accuracy: 0.3310, Loss: 0.8783\n",
      "Epoch   1 Batch  750/1008 - Train Accuracy: 0.2723, Validation Accuracy: 0.3338, Loss: 0.8969\n",
      "Epoch   1 Batch  760/1008 - Train Accuracy: 0.2562, Validation Accuracy: 0.3285, Loss: 0.9110\n"
     ]
    },
    {
     "name": "stdout",
     "output_type": "stream",
     "text": [
      "Epoch   1 Batch  770/1008 - Train Accuracy: 0.2850, Validation Accuracy: 0.3317, Loss: 0.8831\n",
      "Epoch   1 Batch  780/1008 - Train Accuracy: 0.2703, Validation Accuracy: 0.3295, Loss: 0.8899\n",
      "Epoch   1 Batch  790/1008 - Train Accuracy: 0.2500, Validation Accuracy: 0.3338, Loss: 0.9198\n",
      "Epoch   1 Batch  800/1008 - Train Accuracy: 0.3196, Validation Accuracy: 0.3303, Loss: 0.8633\n",
      "Epoch   1 Batch  810/1008 - Train Accuracy: 0.2648, Validation Accuracy: 0.3292, Loss: 0.9038\n",
      "Epoch   1 Batch  820/1008 - Train Accuracy: 0.3182, Validation Accuracy: 0.3292, Loss: 0.8497\n",
      "Epoch   1 Batch  830/1008 - Train Accuracy: 0.3006, Validation Accuracy: 0.3295, Loss: 0.8479\n",
      "Epoch   1 Batch  840/1008 - Train Accuracy: 0.2664, Validation Accuracy: 0.3335, Loss: 0.9104\n",
      "Epoch   1 Batch  850/1008 - Train Accuracy: 0.2391, Validation Accuracy: 0.3295, Loss: 0.8806\n",
      "Epoch   1 Batch  860/1008 - Train Accuracy: 0.2512, Validation Accuracy: 0.3338, Loss: 0.8981\n",
      "Epoch   1 Batch  870/1008 - Train Accuracy: 0.3164, Validation Accuracy: 0.3295, Loss: 0.8107\n",
      "Epoch   1 Batch  880/1008 - Train Accuracy: 0.2865, Validation Accuracy: 0.3292, Loss: 0.8521\n",
      "Epoch   1 Batch  890/1008 - Train Accuracy: 0.2906, Validation Accuracy: 0.3320, Loss: 0.8770\n",
      "Epoch   1 Batch  900/1008 - Train Accuracy: 0.3958, Validation Accuracy: 0.3306, Loss: 0.7694\n",
      "Epoch   1 Batch  910/1008 - Train Accuracy: 0.2950, Validation Accuracy: 0.3335, Loss: 0.8873\n",
      "Epoch   1 Batch  920/1008 - Train Accuracy: 0.2742, Validation Accuracy: 0.3299, Loss: 0.8927\n",
      "Epoch   1 Batch  930/1008 - Train Accuracy: 0.2179, Validation Accuracy: 0.3342, Loss: 0.9008\n",
      "Epoch   1 Batch  940/1008 - Train Accuracy: 0.2496, Validation Accuracy: 0.3303, Loss: 0.8965\n",
      "Epoch   1 Batch  950/1008 - Train Accuracy: 0.3682, Validation Accuracy: 0.3292, Loss: 0.7835\n"
     ]
    }
   ],
   "source": [
    "\"\"\"\n",
    "DON'T MODIFY ANYTHING IN THIS CELL\n",
    "\"\"\"\n",
    "def get_accuracy(target, logits):\n",
    "    \"\"\"\n",
    "    Calculate accuracy\n",
    "    \"\"\"\n",
    "    max_seq = max(target.shape[1], logits.shape[1])\n",
    "    if max_seq - target.shape[1]:\n",
    "        target = np.pad(\n",
    "            target,\n",
    "            [(0,0),(0,max_seq - target.shape[1])],\n",
    "            'constant')\n",
    "    if max_seq - logits.shape[1]:\n",
    "        logits = np.pad(\n",
    "            logits,\n",
    "            [(0,0),(0,max_seq - logits.shape[1])],\n",
    "            'constant')\n",
    "\n",
    "    return np.mean(np.equal(target, logits))\n",
    "\n",
    "# Split data to training and validation sets\n",
    "train_source = source_int_text[batch_size:]\n",
    "train_target = target_int_text[batch_size:]\n",
    "valid_source = source_int_text[:batch_size]\n",
    "valid_target = target_int_text[:batch_size]\n",
    "(valid_sources_batch, valid_targets_batch, valid_sources_lengths, valid_targets_lengths ) = next(get_batches(valid_source,\n",
    "                                                                                                             valid_target,\n",
    "                                                                                                             batch_size,\n",
    "                                                                                                             source_vocab_to_int['<PAD>'],\n",
    "                                                                                                             target_vocab_to_int['<PAD>']))                                                                                                  \n",
    "with tf.Session(graph=train_graph) as sess:\n",
    "    sess.run(tf.global_variables_initializer())\n",
    "\n",
    "    for epoch_i in range(epochs):\n",
    "        for batch_i, (source_batch, target_batch, sources_lengths, targets_lengths) in enumerate(\n",
    "                get_batches(train_source, train_target, batch_size,\n",
    "                            source_vocab_to_int['<PAD>'],\n",
    "                            target_vocab_to_int['<PAD>'])):\n",
    "\n",
    "            _, loss = sess.run(\n",
    "                [train_op, cost],\n",
    "                {input_data: source_batch,\n",
    "                 targets: target_batch,\n",
    "                 lr: learning_rate,\n",
    "                 target_sequence_length: targets_lengths,\n",
    "                 source_sequence_length: sources_lengths,\n",
    "                 keep_prob: keep_probability})\n",
    "\n",
    "\n",
    "            if batch_i % display_step == 0 and batch_i > 0:\n",
    "\n",
    "\n",
    "                batch_train_logits = sess.run(\n",
    "                    inference_logits,\n",
    "                    {input_data: source_batch,\n",
    "                     source_sequence_length: sources_lengths,\n",
    "                     target_sequence_length: targets_lengths,\n",
    "                     keep_prob: 1.0})\n",
    "\n",
    "\n",
    "                batch_valid_logits = sess.run(\n",
    "                    inference_logits,\n",
    "                    {input_data: valid_sources_batch,\n",
    "                     source_sequence_length: valid_sources_lengths,\n",
    "                     target_sequence_length: valid_targets_lengths,\n",
    "                     keep_prob: 1.0})\n",
    "\n",
    "                train_acc = get_accuracy(target_batch, batch_train_logits)\n",
    "\n",
    "                valid_acc = get_accuracy(valid_targets_batch, batch_valid_logits)\n",
    "\n",
    "                print('Epoch {:>3} Batch {:>4}/{} - Train Accuracy: {:>6.4f}, Validation Accuracy: {:>6.4f}, Loss: {:>6.4f}'\n",
    "                      .format(epoch_i, batch_i, len(source_int_text) // batch_size, train_acc, valid_acc, loss))\n",
    "\n",
    "    # Save Model\n",
    "    saver = tf.train.Saver()\n",
    "    saver.save(sess, save_path)\n",
    "    print('Model Trained and Saved')"
   ]
  },
  {
   "cell_type": "markdown",
   "metadata": {},
   "source": [
    "### Save Parameters\n",
    "Save the `batch_size` and `save_path` parameters for inference."
   ]
  },
  {
   "cell_type": "code",
   "execution_count": null,
   "metadata": {
    "collapsed": true
   },
   "outputs": [],
   "source": [
    "\"\"\"\n",
    "DON'T MODIFY ANYTHING IN THIS CELL\n",
    "\"\"\"\n",
    "# Save parameters for checkpoint\n",
    "helper.save_params(save_path)"
   ]
  },
  {
   "cell_type": "markdown",
   "metadata": {},
   "source": [
    "# Checkpoint"
   ]
  },
  {
   "cell_type": "code",
   "execution_count": null,
   "metadata": {
    "collapsed": true
   },
   "outputs": [],
   "source": [
    "\"\"\"\n",
    "DON'T MODIFY ANYTHING IN THIS CELL\n",
    "\"\"\"\n",
    "import tensorflow as tf\n",
    "import numpy as np\n",
    "import helper\n",
    "import problem_unittests as tests\n",
    "\n",
    "_, (source_vocab_to_int, target_vocab_to_int), (source_int_to_vocab, target_int_to_vocab) = helper.load_preprocess()\n",
    "load_path = helper.load_params()"
   ]
  },
  {
   "cell_type": "markdown",
   "metadata": {},
   "source": [
    "## Sentence to Sequence\n",
    "To feed a sentence into the model for translation, you first need to preprocess it.  Implement the function `sentence_to_seq()` to preprocess new sentences.\n",
    "\n",
    "- Convert the sentence to lowercase\n",
    "- Convert words into ids using `vocab_to_int`\n",
    " - Convert words not in the vocabulary, to the `<UNK>` word id."
   ]
  },
  {
   "cell_type": "code",
   "execution_count": null,
   "metadata": {
    "collapsed": true
   },
   "outputs": [],
   "source": [
    "def sentence_to_seq(sentence, vocab_to_int):\n",
    "    \"\"\"\n",
    "    Convert a sentence to a sequence of ids\n",
    "    :param sentence: String\n",
    "    :param vocab_to_int: Dictionary to go from the words to an id\n",
    "    :return: List of word ids\n",
    "    \"\"\"\n",
    "    # TODO: Implement Function\n",
    "    return None\n",
    "\n",
    "\n",
    "\"\"\"\n",
    "DON'T MODIFY ANYTHING IN THIS CELL THAT IS BELOW THIS LINE\n",
    "\"\"\"\n",
    "tests.test_sentence_to_seq(sentence_to_seq)"
   ]
  },
  {
   "cell_type": "markdown",
   "metadata": {},
   "source": [
    "## Translate\n",
    "This will translate `translate_sentence` from English to French."
   ]
  },
  {
   "cell_type": "code",
   "execution_count": null,
   "metadata": {
    "collapsed": true
   },
   "outputs": [],
   "source": [
    "translate_sentence = 'he saw a old yellow truck .'\n",
    "\n",
    "\n",
    "\"\"\"\n",
    "DON'T MODIFY ANYTHING IN THIS CELL\n",
    "\"\"\"\n",
    "translate_sentence = sentence_to_seq(translate_sentence, source_vocab_to_int)\n",
    "\n",
    "loaded_graph = tf.Graph()\n",
    "with tf.Session(graph=loaded_graph) as sess:\n",
    "    # Load saved model\n",
    "    loader = tf.train.import_meta_graph(load_path + '.meta')\n",
    "    loader.restore(sess, load_path)\n",
    "\n",
    "    input_data = loaded_graph.get_tensor_by_name('input:0')\n",
    "    logits = loaded_graph.get_tensor_by_name('predictions:0')\n",
    "    target_sequence_length = loaded_graph.get_tensor_by_name('target_sequence_length:0')\n",
    "    source_sequence_length = loaded_graph.get_tensor_by_name('source_sequence_length:0')\n",
    "    keep_prob = loaded_graph.get_tensor_by_name('keep_prob:0')\n",
    "\n",
    "    translate_logits = sess.run(logits, {input_data: [translate_sentence]*batch_size,\n",
    "                                         target_sequence_length: [len(translate_sentence)*2]*batch_size,\n",
    "                                         source_sequence_length: [len(translate_sentence)]*batch_size,\n",
    "                                         keep_prob: 1.0})[0]\n",
    "\n",
    "print('Input')\n",
    "print('  Word Ids:      {}'.format([i for i in translate_sentence]))\n",
    "print('  English Words: {}'.format([source_int_to_vocab[i] for i in translate_sentence]))\n",
    "\n",
    "print('\\nPrediction')\n",
    "print('  Word Ids:      {}'.format([i for i in translate_logits]))\n",
    "print('  French Words: {}'.format(\" \".join([target_int_to_vocab[i] for i in translate_logits])))\n"
   ]
  },
  {
   "cell_type": "markdown",
   "metadata": {},
   "source": [
    "## Imperfect Translation\n",
    "You might notice that some sentences translate better than others.  Since the dataset you're using only has a vocabulary of 227 English words of the thousands that you use, you're only going to see good results using these words.  For this project, you don't need a perfect translation. However, if you want to create a better translation model, you'll need better data.\n",
    "\n",
    "You can train on the [WMT10 French-English corpus](http://www.statmt.org/wmt10/training-giga-fren.tar).  This dataset has more vocabulary and richer in topics discussed.  However, this will take you days to train, so make sure you've a GPU and the neural network is performing well on dataset we provided.  Just make sure you play with the WMT10 corpus after you've submitted this project.\n",
    "## Submitting This Project\n",
    "When submitting this project, make sure to run all the cells before saving the notebook. Save the notebook file as \"dlnd_language_translation.ipynb\" and save it as a HTML file under \"File\" -> \"Download as\". Include the \"helper.py\" and \"problem_unittests.py\" files in your submission."
   ]
  }
 ],
 "metadata": {
  "anaconda-cloud": {},
  "kernelspec": {
   "display_name": "Python [conda env:ana41py35]",
   "language": "python",
   "name": "conda-env-ana41py35-py"
  },
  "language_info": {
   "codemirror_mode": {
    "name": "ipython",
    "version": 3
   },
   "file_extension": ".py",
   "mimetype": "text/x-python",
   "name": "python",
   "nbconvert_exporter": "python",
   "pygments_lexer": "ipython3",
   "version": "3.6.1"
  }
 },
 "nbformat": 4,
 "nbformat_minor": 1
}
